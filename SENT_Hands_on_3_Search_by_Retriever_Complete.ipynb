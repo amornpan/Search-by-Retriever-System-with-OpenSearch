{
  "nbformat": 4,
  "nbformat_minor": 0,
  "metadata": {
    "colab": {
      "provenance": []
    },
    "kernelspec": {
      "name": "python3",
      "display_name": "Python 3"
    },
    "language_info": {
      "name": "python"
    }
  },
  "cells": [
    {
      "cell_type": "markdown",
      "metadata": {
        "id": "title_cell"
      },
      "source": [
        "# Search by Retriever System with OpenSearch\n",
        "\n",
        "## คำอธิบาย\n",
        "Notebook นี้จะสาธิตการสร้างระบบค้นหาข้อมูลด้วย Retriever และ OpenSearch โดยใช้ Sentence Transformers สำหรับการแปลงข้อความเป็น vector embeddings และ OpenSearch เป็น vector database สำหรับการจัดเก็บและค้นหาข้อมูล\n",
        "\n",
        "## การตั้งค่าพื้นฐาน\n",
        "- OpenSearch Endpoint: http://34.101.178.186:9200\n",
        "- Index Name: yourname_doc_index (กรุณาแก้ไขเป็นชื่อของคุณ)"
      ]
    },
    {
      "cell_type": "markdown",
      "metadata": {
        "id": "install_libs"
      },
      "source": [
        "## 1. การติดตั้ง Libraries ที่จำเป็น\n",
        "\n",
        "ในขั้นตอนนี้เราจะติดตั้ง libraries ที่จำเป็นสำหรับการทำงานกับ OpenSearch และ Sentence Transformers"
      ]
    },
    {
      "cell_type": "code",
      "execution_count": null,
      "metadata": {
        "id": "install_cell"
      },
      "outputs": [],
      "source": [
        "# ติดตั้ง packages ที่จำเป็น\n",
        "!pip install opensearch-py sentence-transformers datasets pandas numpy"
      ]
    },
    {
      "cell_type": "markdown",
      "metadata": {
        "id": "import_libs"
      },
      "source": [
        "## 2. Import Libraries และตั้งค่าเริ่มต้น\n",
        "\n",
        "Import libraries ที่จำเป็นและกำหนดค่าการเชื่อมต่อกับ OpenSearch"
      ]
    },
    {
      "cell_type": "code",
      "execution_count": null,
      "metadata": {
        "id": "import_cell"
      },
      "outputs": [],
      "source": [
        "import json\n",
        "import pandas as pd\n",
        "import numpy as np\n",
        "from sentence_transformers import SentenceTransformer\n",
        "from opensearchpy import OpenSearch, RequestsHttpConnection\n",
        "from typing import List, Dict, Any\n",
        "import warnings\n",
        "warnings.filterwarnings('ignore')\n",
        "\n",
        "# กำหนดค่าการเชื่อมต่อ OpenSearch\n",
        "OPENSEARCH_ENDPOINT = \"http://34.101.178.186:9200\"\n",
        "OPENSEARCH_INDEX = \"yourname_doc_index\"  # ⚠️ CHANGE THIS TO YOUR NAME\n",
        "\n",
        "print(f\"OpenSearch Endpoint: {OPENSEARCH_ENDPOINT}\")\n",
        "print(f\"Index Name: {OPENSEARCH_INDEX}\")"
      ]
    },
    {
      "cell_type": "markdown",
      "metadata": {
        "id": "connection_section"
      },
      "source": [
        "## 3. สร้างการเชื่อมต่อกับ OpenSearch\n",
        "\n",
        "สร้าง client สำหรับเชื่อมต่อกับ OpenSearch และทดสอบการเชื่อมต่อ"
      ]
    },
    {
      "cell_type": "code",
      "execution_count": null,
      "metadata": {
        "id": "connection_cell"
      },
      "outputs": [],
      "source": [
        "# สร้าง OpenSearch client\n",
        "try:\n",
        "    # แยก URL เพื่อรับ host และ port\n",
        "    url_parts = OPENSEARCH_ENDPOINT.replace('http://', '').replace('https://', '')\n",
        "    host, port = url_parts.split(':')\n",
        "    port = int(port)\n",
        "    \n",
        "    client = OpenSearch(\n",
        "        hosts=[{'host': host, 'port': port}],\n",
        "        http_compress=True,\n",
        "        use_ssl=False,\n",
        "        verify_certs=False,\n",
        "        connection_class=RequestsHttpConnection,\n",
        "        timeout=60\n",
        "    )\n",
        "    \n",
        "    # ทดสอบการเชื่อมต่อ\n",
        "    info = client.info()\n",
        "    print(\"✅ เชื่อมต่อ OpenSearch สำเร็จ!\")\n",
        "    print(f\"OpenSearch Version: {info['version']['number']}\")\n",
        "    \n",
        "except Exception as e:\n",
        "    print(f\"❌ เชื่อมต่อ OpenSearch ไม่สำเร็จ: {e}\")"
      ]
    },
    {
      "cell_type": "markdown",
      "metadata": {
        "id": "model_section"
      },
      "source": [
        "## 4. โหลด Sentence Transformer Model\n",
        "\n",
        "โหลดโมเดล Sentence Transformer สำหรับการแปลงข้อความเป็น vector embeddings"
      ]
    },
    {
      "cell_type": "code",
      "execution_count": null,
      "metadata": {
        "id": "model_cell"
      },
      "outputs": [],
      "source": [
        "# โหลด Sentence Transformer model\n",
        "print(\"กำลังโหลด Sentence Transformer model...\")\n",
        "model = SentenceTransformer('sentence-transformers/paraphrase-multilingual-MiniLM-L12-v2')\n",
        "\n",
        "# ทดสอบโมเดล\n",
        "test_text = \"ทดสอบการทำงานของโมเดล\"\n",
        "test_embedding = model.encode(test_text)\n",
        "\n",
        "print(f\"✅ โหลดโมเดลสำเร็จ!\")\n",
        "print(f\"ขนาดของ embedding vector: {len(test_embedding)}\")\n",
        "print(f\"ตัวอย่าง embedding (5 ตัวแรก): {test_embedding[:5]}\")"
      ]
    },
    {
      "cell_type": "markdown",
      "metadata": {
        "id": "index_section"
      },
      "source": [
        "## 5. สร้าง Index Schema สำหรับ OpenSearch\n",
        "\n",
        "กำหนดโครงสร้างของ index ที่จะใช้เก็บข้อมูลและ vector embeddings"
      ]
    },
    {
      "cell_type": "code",
      "execution_count": null,
      "metadata": {
        "id": "index_cell"
      },
      "outputs": [],
      "source": [
        "# กำหนด mapping สำหรับ index\n",
        "index_mapping = {\n",
        "    \"mappings\": {\n",
        "        \"properties\": {\n",
        "            \"id\": {\n",
        "                \"type\": \"keyword\"\n",
        "            },\n",
        "            \"title\": {\n",
        "                \"type\": \"text\",\n",
        "                \"analyzer\": \"standard\"\n",
        "            },\n",
        "            \"content\": {\n",
        "                \"type\": \"text\",\n",
        "                \"analyzer\": \"standard\"\n",
        "            },\n",
        "            \"category\": {\n",
        "                \"type\": \"keyword\"\n",
        "            },\n",
        "            \"embedding\": {\n",
        "                \"type\": \"dense_vector\",\n",
        "                \"dims\": 384,\n",
        "                \"index\": True,\n",
        "                \"similarity\": \"cosine\"\n",
        "            },\n",
        "            \"created_at\": {\n",
        "                \"type\": \"date\"\n",
        "            }\n",
        "        }\n",
        "    },\n",
        "    \"settings\": {\n",
        "        \"number_of_shards\": 1,\n",
        "        \"number_of_replicas\": 0\n",
        "    }\n",
        "}\n",
        "\n",
        "# ลบ index เก่าถ้ามี\n",
        "if client.indices.exists(index=OPENSEARCH_INDEX):\n",
        "    client.indices.delete(index=OPENSEARCH_INDEX)\n",
        "    print(f\"ลบ index เก่า '{OPENSEARCH_INDEX}' แล้ว\")\n",
        "\n",
        "# สร้าง index ใหม่\n",
        "response = client.indices.create(\n",
        "    index=OPENSEARCH_INDEX,\n",
        "    body=index_mapping\n",
        ")\n",
        "\n",
        "print(f\"✅ สร้าง index '{OPENSEARCH_INDEX}' สำเร็จ!\")\n",
        "print(json.dumps(response, indent=2, ensure_ascii=False))"
      ]
    },
    {
      "cell_type": "markdown",
      "metadata": {
        "id": "data_section"
      },
      "source": [
        "## 6. เตรียมข้อมูลตัวอย่าง\n",
        "\n",
        "สร้างข้อมูลตัวอย่างสำหรับทดสอบระบบค้นหา"
      ]
    },
    {
      "cell_type": "code",
      "execution_count": null,
      "metadata": {
        "id": "data_cell"
      },
      "outputs": [],
      "source": [
        "# ข้อมูลตัวอย่าง\n",
        "sample_documents = [\n",
        "    {\n",
        "        \"id\": \"doc_001\",\n",
        "        \"title\": \"การเรียนรู้ของเครื่อง (Machine Learning)\",\n",
        "        \"content\": \"การเรียนรู้ของเครื่อง (Machine Learning) เป็นสาขาหนึ่งของปัญญาประดิษฐ์ที่เน้นการพัฒนาอัลกอริทึมและโมเดลทางสถิติที่คอมพิวเตอร์สามารถใช้เพื่อปฏิบัติงานเฉพาะได้อย่างมีประสิทธิภาพโดยไม่ต้องใช้คำสั่งที่ชัดเจน\",\n",
        "        \"category\": \"AI/ML\",\n",
        "        \"created_at\": \"2024-01-15T10:00:00Z\"\n",
        "    },\n",
        "    {\n",
        "        \"id\": \"doc_002\",\n",
        "        \"title\": \"การประมวลผลภาษาธรรมชาติ (Natural Language Processing)\",\n",
        "        \"content\": \"การประมวลผลภาษาธรรมชาติ (NLP) เป็นสาขาของปัญญาประดิษฐ์ที่เกี่ยวข้องกับการปฏิสัมพันธ์ระหว่างคอมพิวเตอร์และภาษามนุษย์ รวมถึงการสอนคอมพิวเตอร์ให้เข้าใจ ตีความ และสร้างภาษามนุษย์อย่างมีความหมาย\",\n",
        "        \"category\": \"AI/ML\",\n",
        "        \"created_at\": \"2024-01-16T14:30:00Z\"\n",
        "    },\n",
        "    {\n",
        "        \"id\": \"doc_003\",\n",
        "        \"title\": \"ระบบจัดการฐานข้อมูล (Database Management System)\",\n",
        "        \"content\": \"ระบบจัดการฐานข้อมูล (DBMS) เป็นซอฟต์แวร์ที่ช่วยในการจัดเก็บ จัดการ และเรียกใช้ข้อมูลจากฐานข้อมูล มีหน้าที่ในการควบคุมการเข้าถึงข้อมูล รักษาความปลอดภัย และรับประกันความสมบูรณ์ของข้อมูล\",\n",
        "        \"category\": \"Database\",\n",
        "        \"created_at\": \"2024-01-17T09:15:00Z\"\n",
        "    },\n",
        "    {\n",
        "        \"id\": \"doc_004\",\n",
        "        \"title\": \"การพัฒนาเว็บแอปพลิเคชัน (Web Application Development)\",\n",
        "        \"content\": \"การพัฒนาเว็บแอปพลิเคชันเป็นกระบวนการสร้างแอปพลิเคชันที่ทำงานบนเว็บเบราว์เซอร์ ซึ่งประกอบด้วยการพัฒนาส่วน Frontend (หน้าบ้าน) และ Backend (หลังบ้าน) รวมถึงการจัดการฐานข้อมูลและ API\",\n",
        "        \"category\": \"Web Development\",\n",
        "        \"created_at\": \"2024-01-18T16:45:00Z\"\n",
        "    },\n",
        "    {\n",
        "        \"id\": \"doc_005\",\n",
        "        \"title\": \"ความปลอดภัยทางไซเบอร์ (Cybersecurity)\",\n",
        "        \"content\": \"ความปลอดภัยทางไซเบอร์เป็นการปฏิบัติในการปกป้องระบบ เครือข่าย และโปรแกรมจากการโจมตีทางดิจิทัล การโจมตีเหล่านี้มักมีเป้าหมายเพื่อเข้าถึง เปลี่ยนแปลง หรือทำลายข้อมูลที่ละเอียดอ่อน\",\n",
        "        \"category\": \"Security\",\n",
        "        \"created_at\": \"2024-01-19T11:20:00Z\"\n",
        "    }\n",
        "]\n",
        "\n",
        "print(f\"เตรียมข้อมูลตัวอย่าง {len(sample_documents)} documents\")\n",
        "for doc in sample_documents:\n",
        "    print(f\"- {doc['title']} ({doc['category']})\")"
      ]
    },
    {
      "cell_type": "markdown",
      "metadata": {
        "id": "embedding_section"
      },
      "source": [
        "## 7. สร้าง Embeddings และ Index ข้อมูล\n",
        "\n",
        "แปลงข้อมูลเป็น vector embeddings และเก็บลงใน OpenSearch"
      ]
    },
    {
      "cell_type": "code",
      "execution_count": null,
      "metadata": {
        "id": "embedding_cell"
      },
      "outputs": [],
      "source": [
        "def create_document_embedding(title: str, content: str) -> List[float]:\n",
        "    \"\"\"\n",
        "    สร้าง embedding จากชื่อเรื่องและเนื้อหา\n",
        "    \"\"\"\n",
        "    # รวมชื่อเรื่องและเนื้อหาเป็นข้อความเดียว\n",
        "    combined_text = f\"{title} {content}\"\n",
        "    \n",
        "    # สร้าง embedding\n",
        "    embedding = model.encode(combined_text)\n",
        "    \n",
        "    return embedding.tolist()\n",
        "\n",
        "# สร้าง embeddings และ index ข้อมูล\n",
        "print(\"กำลังสร้าง embeddings และ index ข้อมูล...\")\n",
        "\n",
        "for doc in sample_documents:\n",
        "    # สร้าง embedding\n",
        "    embedding = create_document_embedding(doc['title'], doc['content'])\n",
        "    \n",
        "    # เตรียม document สำหรับ index\n",
        "    doc_with_embedding = {\n",
        "        **doc,\n",
        "        'embedding': embedding\n",
        "    }\n",
        "    \n",
        "    # Index document\n",
        "    response = client.index(\n",
        "        index=OPENSEARCH_INDEX,\n",
        "        id=doc['id'],\n",
        "        body=doc_with_embedding\n",
        "    )\n",
        "    \n",
        "    print(f\"✅ Indexed: {doc['title']} (Result: {response['result']})\")\n",
        "\n",
        "# รอให้ index refresh\n",
        "client.indices.refresh(index=OPENSEARCH_INDEX)\n",
        "print(\"\\n🎉 Index ข้อมูลเสร็จสิ้น!\")"
      ]
    },
    {
      "cell_type": "markdown",
      "metadata": {
        "id": "summary_section"
      },
      "source": [
        "## 8. สรุปและการใช้งานต่อ\n",
        "\n",
        "ระบบค้นหาด้วย OpenSearch และ Sentence Transformers พร้อมใช้งานแล้ว!\n",
        "\n",
        "### การใช้งานต่อไป:\n",
        "1. เพิ่มข้อมูลเอกสารใหม่ๆ\n",
        "2. ปรับปรุงการค้นหาให้แม่นยำขึ้น\n",
        "3. สร้าง web interface\n",
        "4. เพิ่มฟีเจอร์การกรองข้อมูล"
      ]
    },
    {
      "cell_type": "code",
      "execution_count": null,
      "metadata": {
        "id": "final_cell"
      },
      "outputs": [],
      "source": [
        "print(\"🎉 ระบบ Search by Retriever with OpenSearch เสร็จสมบูรณ์!\")\n",
        "print(\"\\n📝 ขั้นตอนถัดไป:\")\n",
        "print(\"1. ทดสอบการค้นหาด้วยคำสำคัญต่างๆ\")\n",
        "print(\"2. เพิ่มเอกสารใหม่เข้าสู่ระบบ\")\n",
        "print(\"3. ปรับแต่งพารามิเตอร์การค้นหา\")\n",
        "print(\"4. สร้าง API หรือ web interface\")\n",
        "print(\"\\n✨ ระบบพร้อมใช้งาน! ✨\")"
      ]
    }
  ]
}